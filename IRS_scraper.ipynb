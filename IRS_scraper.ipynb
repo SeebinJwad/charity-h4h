{
 "cells": [
  {
   "cell_type": "code",
   "execution_count": 10,
   "id": "35f762af",
   "metadata": {
    "ExecuteTime": {
     "end_time": "2022-04-23T18:00:38.158695Z",
     "start_time": "2022-04-23T18:00:38.017522Z"
    }
   },
   "outputs": [],
   "source": [
    "from selenium import webdriver\n",
    "import wget\n",
    "from PyPDF2 import PdfFileReader"
   ]
  },
  {
   "cell_type": "code",
   "execution_count": 3,
   "id": "78a9c76a",
   "metadata": {
    "ExecuteTime": {
     "end_time": "2022-04-23T17:31:58.050016Z",
     "start_time": "2022-04-23T17:31:58.037047Z"
    }
   },
   "outputs": [],
   "source": [
    "# problem 1: taking too long to scrape by searching IRS with name\n",
    "# realized value of ID number, seemingly arbibtrary and thus irrelevant column was integral\n",
    "# solved using URL manipulation techniques to efficiently scrape IRS\n",
    "# AND using virtual private server VPS, digitalocean 48$ used of 100$ trial"
   ]
  },
  {
   "cell_type": "code",
   "execution_count": 26,
   "id": "478569d5",
   "metadata": {
    "ExecuteTime": {
     "end_time": "2022-04-23T22:19:20.769820Z",
     "start_time": "2022-04-23T22:19:20.761825Z"
    }
   },
   "outputs": [],
   "source": [
    "with open(\"inp_charities.txt\", 'r') as f:\n",
    "    inp = f.readlines()\n",
    "    inp = [i[:-1] for i in inp]"
   ]
  },
  {
   "cell_type": "code",
   "execution_count": 24,
   "id": "8004ad8b",
   "metadata": {
    "ExecuteTime": {
     "end_time": "2022-04-23T22:18:53.874845Z",
     "start_time": "2022-04-23T22:18:53.754843Z"
    }
   },
   "outputs": [
    {
     "name": "stdout",
     "output_type": "stream",
     "text": [
      "['South Lafourche Quarterback Club', 'Iglesia Bethesda Inc.', 'Ministerio Apostolico Jesucristo Es El Senor Inc.', 'Mercy Chapel International', 'Agape House of Prayer', 'Bethany Presbyterian Church', 'Academic and Behavioral Clinic Inc.', 'Restoration of Hope Church Ministries', 'Church of Our Lord Jesus Christ of Macedonia', 'Usta National Junior Tennis League Inc.']\n"
     ]
    }
   ],
   "source": []
  },
  {
   "cell_type": "code",
   "execution_count": 21,
   "id": "46b1ee44",
   "metadata": {
    "ExecuteTime": {
     "end_time": "2022-04-23T22:17:10.511304Z",
     "start_time": "2022-04-23T22:16:58.860513Z"
    }
   },
   "outputs": [],
   "source": [
    "driver = webdriver.Chrome(\"C:\\\\Users\\\\kazij\\\\Documents\\\\chromedriver.exe\")"
   ]
  },
  {
   "cell_type": "code",
   "execution_count": null,
   "id": "72f6ec6c",
   "metadata": {},
   "outputs": [],
   "source": [
    "driver.get()"
   ]
  },
  {
   "cell_type": "code",
   "execution_count": 7,
   "id": "01bde245",
   "metadata": {
    "ExecuteTime": {
     "end_time": "2022-04-23T17:47:30.007084Z",
     "start_time": "2022-04-23T17:47:28.234895Z"
    }
   },
   "outputs": [
    {
     "name": "stdout",
     "output_type": "stream",
     "text": [
      "100% [............................................................................] 646596 / 646596"
     ]
    },
    {
     "data": {
      "text/plain": [
       "'270829065_201912_990EZ_2021060218238508.pdf'"
      ]
     },
     "execution_count": 7,
     "metadata": {},
     "output_type": "execute_result"
    }
   ],
   "source": [
    "wget.download(\"https://apps.irs.gov/pub/epostcard/cor/270829065_201912_990EZ_2021060218238508.pdf\")"
   ]
  },
  {
   "cell_type": "code",
   "execution_count": 11,
   "id": "7a287af9",
   "metadata": {
    "ExecuteTime": {
     "end_time": "2022-04-23T18:00:50.024710Z",
     "start_time": "2022-04-23T18:00:49.892629Z"
    }
   },
   "outputs": [],
   "source": [
    "reader = PdfFileReader(\"270829065_201912_990EZ_2021060218238508.pdf\")\n",
    "number_of_pages = reader.numPages\n",
    "page = reader.pages[0]\n",
    "text = page.extractText()"
   ]
  },
  {
   "cell_type": "code",
   "execution_count": 12,
   "id": "0f76d841",
   "metadata": {
    "ExecuteTime": {
     "end_time": "2022-04-23T18:00:58.970611Z",
     "start_time": "2022-04-23T18:00:58.958623Z"
    }
   },
   "outputs": [
    {
     "name": "stdout",
     "output_type": "stream",
     "text": [
      "\n"
     ]
    }
   ],
   "source": [
    "print(text)"
   ]
  },
  {
   "cell_type": "code",
   "execution_count": null,
   "id": "c9b031b4",
   "metadata": {},
   "outputs": [],
   "source": [
    "# second problem extracting text from pdf easily\n",
    "# solution: first take the second page we want, then use PIL to crop the image for what I want\n",
    "# AND use hough transformations to detect boxes in a PDF\n"
   ]
  }
 ],
 "metadata": {
  "kernelspec": {
   "display_name": "Python 3",
   "language": "python",
   "name": "python3"
  },
  "language_info": {
   "codemirror_mode": {
    "name": "ipython",
    "version": 3
   },
   "file_extension": ".py",
   "mimetype": "text/x-python",
   "name": "python",
   "nbconvert_exporter": "python",
   "pygments_lexer": "ipython3",
   "version": "3.9.5"
  }
 },
 "nbformat": 4,
 "nbformat_minor": 5
}
