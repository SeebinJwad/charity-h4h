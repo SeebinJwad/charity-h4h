{
 "cells": [
  {
   "cell_type": "code",
   "execution_count": 44,
   "id": "58ce14ff",
   "metadata": {
    "ExecuteTime": {
     "end_time": "2022-04-23T19:34:05.749047Z",
     "start_time": "2022-04-23T19:33:57.033977Z"
    }
   },
   "outputs": [],
   "source": [
    "import fitz\n",
    "from PIL import Image\n",
    "from numpy import asarray\n",
    "import numpy as np\n",
    "import cv2"
   ]
  },
  {
   "cell_type": "code",
   "execution_count": 13,
   "id": "8d581fb2",
   "metadata": {
    "ExecuteTime": {
     "end_time": "2022-04-23T18:55:36.340150Z",
     "start_time": "2022-04-23T18:55:36.254549Z"
    }
   },
   "outputs": [],
   "source": [
    "pdffile = \"270829065_201912_990EZ_2021060218238508.pdf\"\n",
    "doc = fitz.open(pdffile)\n",
    "page = doc.load_page(1)  # number of page\n",
    "pix = page.get_pixmap()\n",
    "output = \"outfile.png\"\n",
    "pix.save(output)"
   ]
  },
  {
   "cell_type": "code",
   "execution_count": 64,
   "id": "250ee3d4",
   "metadata": {
    "ExecuteTime": {
     "end_time": "2022-04-23T19:56:58.276759Z",
     "start_time": "2022-04-23T19:56:58.244723Z"
    }
   },
   "outputs": [
    {
     "name": "stdout",
     "output_type": "stream",
     "text": [
      "779\n",
      "540\n"
     ]
    }
   ],
   "source": [
    "input_image = Image.open(\"outfile.png\")\n",
    "pixel_map = input_image.load()\n",
    "width, height = input_image.size\n",
    "print(height)\n",
    "print(width)\n",
    "# for i in range(width):\n",
    "#     for j in range(height):\n",
    "#         r, g, b = input_image.getpixel((i, j))  \n",
    "#         grayscale = (0.299*r + 0.587*g + 0.114*b)\n",
    "#         pixel_map[i, j] = (int(grayscale), int(grayscale), int(grayscale))\n",
    "# input_image.save(\"grayscale.png\", format=\"png\")"
   ]
  },
  {
   "cell_type": "code",
   "execution_count": 42,
   "id": "0ac0f724",
   "metadata": {
    "ExecuteTime": {
     "end_time": "2022-04-23T19:31:36.762655Z",
     "start_time": "2022-04-23T19:31:36.706657Z"
    }
   },
   "outputs": [
    {
     "name": "stdout",
     "output_type": "stream",
     "text": [
      "(array([  0,   1,   2,   3,   4,   5,   6,   7,   8,   9,  10,  11,  12,\n",
      "        13,  14,  15,  16,  17,  18,  19,  20,  21,  22,  23,  24,  25,\n",
      "        26,  27,  28,  29,  30,  31,  32,  33,  34,  35,  36,  37,  38,\n",
      "        39,  40,  41,  42,  43,  44,  45,  46,  47,  48,  49,  50,  51,\n",
      "        52,  53,  54,  55,  56,  57,  58,  59,  60,  61,  62,  63,  64,\n",
      "        65,  66,  67,  68,  69,  70,  71,  72,  73,  74,  75,  76,  77,\n",
      "        78,  79,  80,  81,  82,  83,  84,  85,  86,  87,  88,  89,  90,\n",
      "        91,  92,  93,  94,  95,  96,  97,  98,  99, 100, 101, 102, 103,\n",
      "       104, 105, 106, 107, 108, 109, 110, 111, 112, 113, 114, 115, 116,\n",
      "       117, 118, 119, 120, 121, 122, 123, 124, 125, 126, 127, 128, 129,\n",
      "       130, 131, 132, 133, 134, 135, 136, 137, 138, 139, 140, 141, 142,\n",
      "       143, 144, 145, 146, 147, 148, 149, 150, 151, 152, 153, 154, 155,\n",
      "       156, 157, 158, 159, 160, 161, 162, 163, 164, 165, 166, 167, 168,\n",
      "       169, 170, 171, 172, 173, 174, 175, 176, 177, 178, 179, 180, 181,\n",
      "       182, 183, 184, 185, 186, 187, 188, 189, 190, 191, 192, 193, 194,\n",
      "       195, 196, 197, 198, 199, 200, 201, 202, 203, 204, 205, 206, 207,\n",
      "       208, 209, 210, 211, 212, 213, 214, 215, 216, 217, 218, 219, 220,\n",
      "       221, 222, 223, 224, 225, 226, 227, 228, 229, 230, 231, 232, 233,\n",
      "       234, 235, 236, 237, 238, 239, 240, 241, 242, 243, 244, 245, 246,\n",
      "       247, 248, 249, 250, 251, 252, 253, 254, 255], dtype=uint8), array([  1767,     66,    114,     87,     99,    168,     69,     39,\n",
      "           33,     45,     30,     36,     48,     15,     42,     21,\n",
      "           51,     33,     30,     39,    159,     48,     45,    159,\n",
      "          276,     57,     75,     27,     72,     84,     66,     33,\n",
      "           57,     63,     39,     69,    171,    642,     57,     69,\n",
      "           72,    165,     84,     87,    111,     84,     75,     66,\n",
      "          180,     99,    114,     99,     90,    114,    156,    108,\n",
      "          129,     96,    129,    120,    195,   1707,    129,    789,\n",
      "          273,   2922,    321,   1818,    468,    249,    234,    858,\n",
      "          321,    267,    312,    243,    366,   1836,    279,    303,\n",
      "          318,   1917,    306,    396,    294,    381,    381,    327,\n",
      "          339,   1905,    348,    312,    336,    348,    384,   1458,\n",
      "          384,    399,   2046,    849,    513,   2022,    402,    480,\n",
      "          384,    432,    408,    408,    804,    399,    456,    447,\n",
      "          477,    495,   1059,    450,    480,    519,    789,   2091,\n",
      "          420,   2055,   3318,    495,    600,    582,    570,    699,\n",
      "         2577,   2346,    738,    699,    642,   3666,   1407,   1692,\n",
      "         2271,    672,    552,    633,    600,    672,   2835,    585,\n",
      "         1269,    705,   2316,   2175,    729,   1725,   2565,    627,\n",
      "          690,    642,    717,   2274,    588,    858,   2334,   2286,\n",
      "          696,   1308,    642,   2241,    714,    618,    627,   2205,\n",
      "          732,    666,    714,   1317,    732,   2262,    741,   1377,\n",
      "          798,   2250,    615,   2283,    711,    600,    792,   3540,\n",
      "          768,   1362,   2901,    744,    714,   2445,   1248,   1770,\n",
      "          894,   2316,   3420,   2319,    789,    720,   2346,   3288,\n",
      "         1614,   2256,    663,    753,    699,    702,   3636,   2253,\n",
      "          819,    792,   2673,    822,    867,   2310,    726,    783,\n",
      "          765,   2013,   1110,    918,   1182,    810,    849,    948,\n",
      "         2451,   2613,   2580,   3201,   1002,   2493,    975,    981,\n",
      "         2133,   1215,   1173,   2583,   1095,   2733,   1827,   1299,\n",
      "         1236,   1251,   1356,   2880,   2955,   1662,   4608,   1491,\n",
      "         4536,   3084,   1995,   3261,   4866,   3069,  12972, 990279],\n",
      "      dtype=int64))\n"
     ]
    }
   ],
   "source": [
    "data = asarray(input_image)\n",
    "counts = np.unique(data, return_counts=True)\n",
    "print(counts)"
   ]
  },
  {
   "cell_type": "code",
   "execution_count": 46,
   "id": "8d2125d8",
   "metadata": {
    "ExecuteTime": {
     "end_time": "2022-04-23T19:38:36.400547Z",
     "start_time": "2022-04-23T19:38:36.368489Z"
    }
   },
   "outputs": [
    {
     "data": {
      "text/plain": [
       "True"
      ]
     },
     "execution_count": 46,
     "metadata": {},
     "output_type": "execute_result"
    }
   ],
   "source": [
    "img_grey = cv2.imread('outfile.png', cv2.IMREAD_GRAYSCALE)\n",
    "thresh = 128\n",
    "img_binary = cv2.threshold(img_grey, thresh, 255, cv2.THRESH_BINARY)[1]\n",
    "cv2.imwrite('black-and-white.png',img_binary) "
   ]
  },
  {
   "cell_type": "code",
   "execution_count": 56,
   "id": "0162cb59",
   "metadata": {
    "ExecuteTime": {
     "end_time": "2022-04-23T19:40:41.480264Z",
     "start_time": "2022-04-23T19:40:41.432273Z"
    }
   },
   "outputs": [
    {
     "name": "stdout",
     "output_type": "stream",
     "text": [
      "(array([  0, 255], dtype=uint8), array([ 19809, 400851], dtype=int64))\n",
      "540\n"
     ]
    }
   ],
   "source": [
    "black_white_image = Image.open(\"black-and-white.png\")\n",
    "data = asarray(black_white_image)\n",
    "counts = np.unique(data, return_counts=True)\n",
    "print(counts)\n",
    "# data[1] = 540 value array 1 line of 779 in image\n",
    "print(len(data[1]))"
   ]
  },
  {
   "cell_type": "code",
   "execution_count": 62,
   "id": "f5b157c4",
   "metadata": {
    "ExecuteTime": {
     "end_time": "2022-04-23T19:54:24.765493Z",
     "start_time": "2022-04-23T19:54:24.749514Z"
    }
   },
   "outputs": [
    {
     "name": "stdout",
     "output_type": "stream",
     "text": [
      "[137700 137700 137700 137700 137700 137700 132600 134895 133620 133365\n",
      " 134895 135915 137190 136935 127755 127500 128520 125970 120105 112965\n",
      " 115260 118320 116280 127245 127500 127500 136680 132345 105060 123165\n",
      " 125715 113475 135660 137700 137700  85170 137190 137190 137190 134640\n",
      " 133365 129540 127245 129795 134895 134385  85425 136935 136935 136935]\n"
     ]
    }
   ],
   "source": [
    "# higher the number the more the white\n",
    "total_white_line = data.sum(axis=1)\n",
    "print(total_white_line[:50])"
   ]
  },
  {
   "cell_type": "code",
   "execution_count": 92,
   "id": "00346d22",
   "metadata": {
    "ExecuteTime": {
     "end_time": "2022-04-23T20:48:54.052137Z",
     "start_time": "2022-04-23T20:48:54.036157Z"
    }
   },
   "outputs": [
    {
     "name": "stdout",
     "output_type": "stream",
     "text": [
      "[]\n"
     ]
    }
   ],
   "source": [
    "# find index of values less than 5000 arbitrary to designate a line\n",
    "indices = total_white_line < 50000\n",
    "yval_lines = list(np.where(total_white_line < 50000)[0])\n",
    "print(yval_lines)"
   ]
  },
  {
   "cell_type": "code",
   "execution_count": 91,
   "id": "e3e6a241",
   "metadata": {
    "ExecuteTime": {
     "end_time": "2022-04-23T20:10:06.021705Z",
     "start_time": "2022-04-23T20:10:03.757691Z"
    }
   },
   "outputs": [],
   "source": [
    "img_horizontal_crop = (0, yval_lines[0], width, yval_lines[1])\n",
    "img_horizontal_crop = input_image.crop(img_horizontal_crop)\n",
    "img_horizontal_crop.show()\n",
    "img_horizontal_crop.save(\"h_crop.png\", format=\"png\")"
   ]
  },
  {
   "cell_type": "code",
   "execution_count": 94,
   "id": "e23b867f",
   "metadata": {
    "ExecuteTime": {
     "end_time": "2022-04-23T21:33:02.226139Z",
     "start_time": "2022-04-23T21:33:02.210148Z"
    }
   },
   "outputs": [
    {
     "name": "stdout",
     "output_type": "stream",
     "text": [
      "[198645 193545 185130 167025 178500 174165 172380 174675 179265 177735\n",
      " 175185 177480 176460 184365 185385 182835 175695 178755 182835 183090\n",
      " 180540 177225 180030 178755 176460 179265 175185 177735 179775 182070\n",
      " 185640 183600 183600 182835 184110 186660 185130 184110 182325 180540\n",
      " 180795 187425 188445 189465 189720 187935 187935 187935 187425 191505]\n"
     ]
    }
   ],
   "source": [
    "total_white_line = np.transpose(data).sum(axis=1)\n",
    "print(total_white_line[:50])"
   ]
  },
  {
   "cell_type": "code",
   "execution_count": 88,
   "id": "7ecfe948",
   "metadata": {
    "ExecuteTime": {
     "end_time": "2022-04-23T20:07:40.279814Z",
     "start_time": "2022-04-23T20:07:40.255807Z"
    }
   },
   "outputs": [
    {
     "name": "stdout",
     "output_type": "stream",
     "text": [
      "[269, 447]\n"
     ]
    }
   ],
   "source": [
    "indices = total_white_line < 100000\n",
    "xval_lines = list(np.where(total_white_line < 100000)[0])\n",
    "print(xval_lines)"
   ]
  },
  {
   "cell_type": "code",
   "execution_count": 89,
   "id": "f3af1078",
   "metadata": {
    "ExecuteTime": {
     "end_time": "2022-04-23T20:09:01.447282Z",
     "start_time": "2022-04-23T20:08:59.807285Z"
    }
   },
   "outputs": [],
   "source": [
    "img_vertical_crop = (0, 0, xval_lines[0], height)\n",
    "img_vertical_crop = input_image.crop(img_vertical_crop)\n",
    "img_vertical_crop.show()"
   ]
  },
  {
   "cell_type": "code",
   "execution_count": null,
   "id": "a430f30a",
   "metadata": {},
   "outputs": [],
   "source": []
  }
 ],
 "metadata": {
  "kernelspec": {
   "display_name": "Python 3",
   "language": "python",
   "name": "python3"
  },
  "language_info": {
   "codemirror_mode": {
    "name": "ipython",
    "version": 3
   },
   "file_extension": ".py",
   "mimetype": "text/x-python",
   "name": "python",
   "nbconvert_exporter": "python",
   "pygments_lexer": "ipython3",
   "version": "3.9.5"
  }
 },
 "nbformat": 4,
 "nbformat_minor": 5
}
