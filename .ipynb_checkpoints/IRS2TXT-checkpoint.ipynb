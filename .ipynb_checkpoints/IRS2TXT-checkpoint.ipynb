{
 "cells": [
  {
   "cell_type": "code",
   "execution_count": 2,
   "id": "60b9f00a",
   "metadata": {
    "ExecuteTime": {
     "end_time": "2022-04-23T20:45:39.414977Z",
     "start_time": "2022-04-23T20:45:39.406972Z"
    }
   },
   "outputs": [],
   "source": [
    "import fitz\n",
    "from PIL import Image\n",
    "from numpy import asarray\n",
    "import numpy as np\n",
    "import cv2\n",
    "import os"
   ]
  },
  {
   "cell_type": "code",
   "execution_count": 21,
   "id": "fcb04a51",
   "metadata": {
    "ExecuteTime": {
     "end_time": "2022-04-23T21:23:34.434478Z",
     "start_time": "2022-04-23T21:23:34.418437Z"
    }
   },
   "outputs": [],
   "source": [
    "def pdf_to_img(filepath, filename):\n",
    "    doc = fitz.open(filepath)\n",
    "    page = doc.load_page(1)  # number of page\n",
    "    pix = page.get_pixmap()\n",
    "    output = filename[:-4] + \".png\"\n",
    "    pix.save(\"imgs\\\\\" + output)"
   ]
  },
  {
   "cell_type": "code",
   "execution_count": 24,
   "id": "0d6a4bde",
   "metadata": {
    "ExecuteTime": {
     "end_time": "2022-04-23T21:24:24.553109Z",
     "start_time": "2022-04-23T21:24:24.537146Z"
    }
   },
   "outputs": [],
   "source": [
    "def img_to_bw(filepath, filename):\n",
    "    img_grey = cv2.imread(filepath, cv2.IMREAD_GRAYSCALE)\n",
    "    thresh = 128\n",
    "    img_binary = cv2.threshold(img_grey, thresh, 255, cv2.THRESH_BINARY)[1]\n",
    "    cv2.imwrite(\"bw_imgs\\\\\" + filename[:-4] + '_bw.png', img_binary)"
   ]
  },
  {
   "cell_type": "code",
   "execution_count": 51,
   "id": "57e8dd96",
   "metadata": {
    "ExecuteTime": {
     "end_time": "2022-04-23T21:35:15.672388Z",
     "start_time": "2022-04-23T21:35:15.656377Z"
    }
   },
   "outputs": [],
   "source": [
    "# returns list of y-value of horizontal lines\n",
    "# input bw img\n",
    "# img_bw = Image.open(\"bw.png\")\n",
    "# 0 = horizontal lines, 1 = vertical lines\n",
    "def identify_line(img_bw, threshold, line_axis=0):\n",
    "    data = asarray(img_bw)\n",
    "    \n",
    "    # sum of whiteness in each line\n",
    "    if line_axis == 0:\n",
    "        white_count = data.sum(axis=1)\n",
    "    else:\n",
    "        white_count = np.transpose(data).sum(axis=1)\n",
    "    indices = list(np.where(white_count < threshold)[0])\n",
    "    return indices"
   ]
  },
  {
   "cell_type": "code",
   "execution_count": 57,
   "id": "0a084f9c",
   "metadata": {
    "ExecuteTime": {
     "end_time": "2022-04-23T21:43:31.250318Z",
     "start_time": "2022-04-23T21:43:31.226312Z"
    }
   },
   "outputs": [],
   "source": [
    "# given an x or y value, go from top and left to that value\n",
    "# slice_img(line_axis=0, 0, height//2) crops image and saves top half\n",
    "# crops from one line to another (a -> b)\n",
    "def slice_img(img_bw, a, b, line_axis=0, show=False):\n",
    "    width, height = img_bw.size\n",
    "    if line_axis == 0:\n",
    "        crop_img = (0, a, width, b)\n",
    "    else:\n",
    "        crop_img = (a, 0, b, height)\n",
    "    crop_img = img_bw.crop(crop_img)\n",
    "    if show:\n",
    "        crop_img.show()\n",
    "    return crop_img"
   ]
  },
  {
   "cell_type": "code",
   "execution_count": 49,
   "id": "83384f98",
   "metadata": {
    "ExecuteTime": {
     "end_time": "2022-04-23T21:35:07.624361Z",
     "start_time": "2022-04-23T21:35:07.600316Z"
    }
   },
   "outputs": [],
   "source": [
    "# finds the horizontal and vertical lines in pdf file\n",
    "def pdf_to_lines(inp_filename):\n",
    "    pdf_to_img(\"pdfs\\\\\" + inp_filename, inp_filename)\n",
    "    \n",
    "    img_filename = inp_filename[:-4] + \".png\"\n",
    "    img_to_bw(\"imgs\\\\\" + img_filename, img_filename)\n",
    "    \n",
    "    inp_bw_img = Image.open(\"bw_imgs\\\\\" + inp_filename[:-4] + \"_bw.png\")\n",
    "    \n",
    "    # if sum of white pixels in a line less than value, total = width||height*255\n",
    "    sensitivity_h = 50000\n",
    "    sensitivity_v = 100000\n",
    "    h_lines = identify_line(inp_bw_img, sensitivity_h, line_axis=0)\n",
    "    v_lines = identify_line(inp_bw_img, sensitivity_v, line_axis=1)\n",
    "    return [h_lines, v_lines]"
   ]
  },
  {
   "cell_type": "code",
   "execution_count": 54,
   "id": "caf75c90",
   "metadata": {
    "ExecuteTime": {
     "end_time": "2022-04-23T21:42:02.580896Z",
     "start_time": "2022-04-23T21:42:02.468915Z"
    }
   },
   "outputs": [
    {
     "name": "stdout",
     "output_type": "stream",
     "text": [
      "[137, 193, 239, 353, 483, 511, 540, 568, 624, 681, 738, 766, 767]\n",
      "[269, 447]\n"
     ]
    }
   ],
   "source": [
    "line_indices = pdf_to_lines(\"test_inp.pdf\")\n",
    "print(line_indices[0])\n",
    "print(line_indices[1])"
   ]
  },
  {
   "cell_type": "code",
   "execution_count": 60,
   "id": "9145f749",
   "metadata": {
    "ExecuteTime": {
     "end_time": "2022-04-23T21:46:04.570877Z",
     "start_time": "2022-04-23T21:46:01.496304Z"
    }
   },
   "outputs": [],
   "source": [
    "orig_img = Image.open(\"imgs\\\\test_inp.png\")\n",
    "h_slice = slice_img(orig_img, line_indices[0][0], line_indices[0][1], line_axis=0, show=True)\n",
    "# v_slice = slice_img(h_slice, 0, line_indices[1][0], line_axis=1, show=True)"
   ]
  },
  {
   "cell_type": "code",
   "execution_count": null,
   "id": "10348aca",
   "metadata": {},
   "outputs": [],
   "source": []
  }
 ],
 "metadata": {
  "kernelspec": {
   "display_name": "Python 3",
   "language": "python",
   "name": "python3"
  },
  "language_info": {
   "codemirror_mode": {
    "name": "ipython",
    "version": 3
   },
   "file_extension": ".py",
   "mimetype": "text/x-python",
   "name": "python",
   "nbconvert_exporter": "python",
   "pygments_lexer": "ipython3",
   "version": "3.9.5"
  }
 },
 "nbformat": 4,
 "nbformat_minor": 5
}
