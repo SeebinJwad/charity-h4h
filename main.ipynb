{
 "cells": [
  {
   "cell_type": "code",
   "execution_count": 18,
   "id": "a44f6bf7",
   "metadata": {
    "ExecuteTime": {
     "end_time": "2022-04-23T15:12:57.874308Z",
     "start_time": "2022-04-23T15:12:57.866308Z"
    }
   },
   "outputs": [],
   "source": [
    "import pandas as pd\n",
    "import json\n",
    "import os\n",
    "import numpy as np\n",
    "from numpy.random import randint\n",
    "from selenium import webdriver"
   ]
  },
  {
   "cell_type": "code",
   "execution_count": 12,
   "id": "9ebcea77",
   "metadata": {
    "ExecuteTime": {
     "end_time": "2022-04-23T14:59:05.289515Z",
     "start_time": "2022-04-23T14:59:01.457632Z"
    }
   },
   "outputs": [],
   "source": [
    "file_path = \"C:\\\\Users\\\\kazij\\\\Downloads\\\\data-download-pub78\\\\data-download-pub78.txt\"\n",
    "col_names = ['TAX_ID','NAME','CITY','STATE','COUNTRY','EXEMPT_CODE']\n",
    "dtype = dict(zip(col_names, ['string','string','string','category','category','category']))\n",
    "df = pd.read_csv(file_path, delimiter=\"|\", names=col_names, dtype=dtype)"
   ]
  },
  {
   "cell_type": "code",
   "execution_count": 83,
   "id": "f9d947fa",
   "metadata": {
    "ExecuteTime": {
     "end_time": "2022-04-23T22:06:06.747379Z",
     "start_time": "2022-04-23T22:06:05.611379Z"
    }
   },
   "outputs": [
    {
     "data": {
      "text/plain": [
       "['South Lafourche Quarterback Club',\n",
       " 'Iglesia Bethesda Inc.',\n",
       " 'Ministerio Apostolico Jesucristo Es El Senor Inc.',\n",
       " 'Mercy Chapel International',\n",
       " 'Agape House of Prayer',\n",
       " 'Bethany Presbyterian Church',\n",
       " 'Academic and Behavioral Clinic Inc.',\n",
       " 'Restoration of Hope Church Ministries',\n",
       " 'Church of Our Lord Jesus Christ of Macedonia',\n",
       " 'Usta National Junior Tennis League Inc.']"
      ]
     },
     "execution_count": 83,
     "metadata": {},
     "output_type": "execute_result"
    }
   ],
   "source": [
    "list((df[\"NAME\"]))[:10]"
   ]
  },
  {
   "cell_type": "code",
   "execution_count": 103,
   "id": "d01d02c9",
   "metadata": {
    "ExecuteTime": {
     "end_time": "2022-04-23T22:31:05.845699Z",
     "start_time": "2022-04-23T22:31:04.003655Z"
    }
   },
   "outputs": [],
   "source": [
    "driver = webdriver.Chrome(\"C:\\\\Users\\\\kazij\\\\Documents\\\\chromedriver.exe\")"
   ]
  },
  {
   "cell_type": "code",
   "execution_count": 85,
   "id": "3a36629f",
   "metadata": {
    "ExecuteTime": {
     "end_time": "2022-04-23T22:22:02.021736Z",
     "start_time": "2022-04-23T22:22:01.997666Z"
    }
   },
   "outputs": [],
   "source": [
    "with open(\"inp_charities.txt\", 'r') as f:\n",
    "    charities = f.readlines()\n",
    "    charities = [i[:-1] for i in charities]"
   ]
  },
  {
   "cell_type": "code",
   "execution_count": 104,
   "id": "9f4dbd4f",
   "metadata": {
    "ExecuteTime": {
     "end_time": "2022-04-23T22:34:24.935229Z",
     "start_time": "2022-04-23T22:34:23.949235Z"
    }
   },
   "outputs": [],
   "source": [
    "names = []\n",
    "eins = []\n",
    "cities = []\n",
    "states = []\n",
    "for charity in charities:\n",
    "    df_slice = df[df['NAME'] == charity]\n",
    "    eins.append(df_slice.iloc[0, 0])\n",
    "    names.append(df_slice.iloc[0,1].replace(\" \", \"%20\"))\n",
    "    cities.append(df_slice.iloc[0, 2].replace(\" \", \"%20\"))\n",
    "    states.append(df_slice.iloc[0, 3].replace(\" \", \"%20\"))"
   ]
  },
  {
   "cell_type": "code",
   "execution_count": 110,
   "id": "063b1c59",
   "metadata": {
    "ExecuteTime": {
     "end_time": "2022-04-23T22:39:35.638568Z",
     "start_time": "2022-04-23T22:39:35.155302Z"
    }
   },
   "outputs": [],
   "source": [
    "driver.get(\"https://apps.irs.gov/app/eos/detailsPage?ein=000004101&name=South%20Lafourche%20Quarterback%20Club&city=Lockport&state=LA&countryAbbr=US&dba=&type=CHARITIES&orgTags=CHARITIES\")"
   ]
  },
  {
   "cell_type": "code",
   "execution_count": 111,
   "id": "d20e66aa",
   "metadata": {
    "ExecuteTime": {
     "end_time": "2022-04-23T22:39:54.040573Z",
     "start_time": "2022-04-23T22:39:53.548348Z"
    }
   },
   "outputs": [],
   "source": [
    "# https://apps.irs.gov/app/eos/detailsPage?000004101&name=South%20Lafourche%20Quarterback%20Club&cityLockport&stateLA&countryAbbr=US&dba=&type=CHARITIES,%20DETERMINATIONLETTERS,%20COPYOFRETURNS&orgTags=CHARITIES&orgTags=DETERMINATIONLETTERS&orgTags=COPYOFRETURNS\n",
    "# https://apps.irs.gov/app/eos/detailsPage?ein=000004101&name=South%20Lafourche%20Quarterback%20Club&city=Lockport&state=LA&countryAbbr=US&dba=&type=CHARITIES&orgTags=CHARITIES\n",
    "# https://apps.irs.gov/app/eos/detailsPage?ein=000004101&name=South%20Lafourche%20Quarterback%20Club&city=Lockport&state=LA&countryAbbr=US&dba=&type=CHARITIES&orgTags=CHARITIES\n",
    "\"\"\"\n",
    "* (any spaces in name, city, state, replaced with '%20):\n",
    "* https://apps.irs.gov/app/eos/detailsPage?\n",
    "* ein = TAX_ID value\n",
    "* &name= NAME\n",
    "* &city = CITY\n",
    "* &state = STATE \n",
    "* &countryAbbr=US\n",
    "* &dba=&type=CHARITIES,%20DETERMINATIONLETTERS,%20COPYOFRETURNS&orgTags=CHARITIES&orgTags=DETERMINATIONLETTERS&orgTags=COPYOFRETURNS\n",
    "\"\"\"\n",
    "end_str = \"&countryAbbr=US&dba=&type=CHARITIES,%20DETERMINATIONLETTERS,%20COPYOFRETURNS&orgTags=CHARITIES&orgTags=DETERMINATIONLETTERS&orgTags=COPYOFRETURNS\"\n",
    "for x in range(len(charities)):\n",
    "    driver.get(\"https://apps.irs.gov/app/eos/detailsPage?\" + \"ein=\" + str(eins[x]) + \"&name=\" + names[x] + \"&city=\" + cities[x] + \"&state=\" + states[x] + end_str)\n",
    "    break"
   ]
  },
  {
   "cell_type": "code",
   "execution_count": null,
   "id": "18ecfc48",
   "metadata": {},
   "outputs": [],
   "source": []
  },
  {
   "cell_type": "markdown",
   "id": "47caa82a",
   "metadata": {},
   "source": [
    "# EDA (exploratory data analysis)\n",
    "---\n",
    "#### Columns Know/Need-to-Know\n",
    "- TAX_ID\n",
    "    - digits reference area that processes the tax info\n",
    "    - is there a relevant pattern when city and state info provided?\n",
    "    - XX-XXXXXXX\n",
    "- NAME\n",
    "    - is it relevant for web scraping search input?\n",
    "- CITY\n",
    "    - relevant for similarity mapping?\n",
    "    - distribution?\n",
    "- STATE\n",
    "    - relevant for similarity mapping?\n",
    "    - distribution?\n",
    "- COUNTRY\n",
    "    - is it the same for all values?\n"
   ]
  },
  {
   "cell_type": "code",
   "execution_count": 57,
   "id": "dc46a4b1",
   "metadata": {
    "ExecuteTime": {
     "end_time": "2022-04-23T16:15:21.241489Z",
     "start_time": "2022-04-23T16:15:21.214474Z"
    }
   },
   "outputs": [
    {
     "name": "stdout",
     "output_type": "stream",
     "text": [
      "[TAX_ID                                                 541440344\n",
      "NAME           Brachytherapy Research and Educational Foundat...\n",
      "CITY                                                 Springfield\n",
      "STATE                                                         VA\n",
      "COUNTRY                                            United States\n",
      "EXEMPT_CODE                                                   PF\n",
      "Name: 639427, dtype: object, TAX_ID                            810480612\n",
      "NAME           Burton K Wheeler Center Inc.\n",
      "CITY                                Bozeman\n",
      "STATE                                    MT\n",
      "COUNTRY                       United States\n",
      "EXEMPT_CODE                              PC\n",
      "Name: 807896, dtype: object, TAX_ID                                 473026523\n",
      "NAME           Southern Juba Relief Organization\n",
      "CITY                                      Peoria\n",
      "STATE                                         AZ\n",
      "COUNTRY                            United States\n",
      "EXEMPT_CODE                                   PC\n",
      "Name: 572313, dtype: object, TAX_ID                              474877485\n",
      "NAME           Families of Hillcrest Cemetery\n",
      "CITY                                   Marlin\n",
      "STATE                                      TX\n",
      "COUNTRY                         United States\n",
      "EXEMPT_CODE                                PC\n",
      "Name: 595631, dtype: object, TAX_ID             275053006\n",
      "NAME            Sparrow Fund\n",
      "CITY            Phoenixville\n",
      "STATE                     PA\n",
      "COUNTRY        United States\n",
      "EXEMPT_CODE               PC\n",
      "Name: 284929, dtype: object]\n"
     ]
    }
   ],
   "source": [
    "# Manual searching EDA\n",
    "# random sample values\n",
    "sample_amt = 5\n",
    "rand_arr = randint(0, len(df.index), size=sample_amt)\n",
    "print([df.iloc[rand_arr[x],:] for x in range(sample_amt)])"
   ]
  },
  {
   "cell_type": "markdown",
   "id": "6d8da2ff",
   "metadata": {},
   "source": [
    "# Manual EDA Notes\n",
    "* every non profit downloaded has public IRS income tax form history as PDFs\n",
    "* link webscraping possible?\n",
    "* Guidestar.com 4800-9000 dollar API scraped IRS page\n",
    "* example URL: https://apps.irs.gov/app/eos/detailsPage?ein=270829065&name=Movement%20for%20Language%20and%20Culture%20Inc.&city=New%20York&state=NY&countryAbbr=US&dba=&type=CHARITIES,%20DETERMINATIONLETTERS,%20COPYOFRETURNS&orgTags=CHARITIES&orgTags=DETERMINATIONLETTERS&orgTags=COPYOFRETURNS\n",
    "* example URL 2: https://apps.irs.gov/app/eos/detailsPage?ein=277011084&name=1966%20Charitable%20Tr&city=Potomac&state=MD&countryAbbr=US&dba=&type=CHARITIES,%20DETERMINATIONLETTERS,%20COPYOFRETURNS&orgTags=CHARITIES&orgTags=DETERMINATIONLETTERS&orgTags=COPYOFRETURNS\n",
    "* two different types of charities to categorize, internal and external (local community development, and international development aid)\n",
    "---\n",
    "#### URL regex\n",
    "* (any spaces in name, city, state, replaced with '%20):\n",
    "* https://apps.irs.gov/app/eos/detailsPage?\n",
    "* ein = TAX_ID value\n",
    "* &name= NAME\n",
    "* &city = CITY\n",
    "* &state = STATE \n",
    "* &countryAbbr=US\n",
    "* &dba=&type=CHARITIES,%20DETERMINATIONLETTERS,%20COPYOFRETURNS&orgTags=CHARITIES&orgTags=DETERMINATIONLETTERS&orgTags=COPYOFRETURNS"
   ]
  },
  {
   "cell_type": "code",
   "execution_count": 76,
   "id": "bea93f10",
   "metadata": {
    "ExecuteTime": {
     "end_time": "2022-04-23T16:42:55.540605Z",
     "start_time": "2022-04-23T16:42:55.420615Z"
    }
   },
   "outputs": [
    {
     "name": "stdout",
     "output_type": "stream",
     "text": [
      "['AFGHANISTAN', 'ANTIGUA & BARBUDA', 'BERMUDA', 'CANADA', 'FRANCE', 'GUATEMALA', 'HAITI', 'IRAN', 'ISRAEL', 'JAPAN', 'MADAGASCAR', 'MALAWI', 'NAMIBIA', 'NETHERLANDS', 'NORWAY', 'ROMANIA', 'THE BAHAMAS', 'UNITED ARAB EMIRATES', 'UNITED KINGDOM', 'ZIMBABWE', 'AKROTIRI', 'AUSTRIA', 'BELIZE', 'EAST AFRICA', 'GEORGIA', 'INDIA', 'MEXICO', 'NICARAGUA', 'PHILIPPINES', 'REPUBLIC OF KOREA', 'SWITZERLAND', 'BARBADOS', 'BRITISH VIRGIN ISLANDS', 'BURKINA FASO', 'CHINA', 'COSTA RICA', 'DENMARK', 'GERMANY', 'HONG KONG', 'INDONESIA', 'KENYA', 'MOZAMBIQUE', 'NAURU', 'PERU', 'PORTUGAL', 'SUDAN', 'SWEDEN', 'THE GAMBIA', 'ALBANIA', 'AUSTRALIA', 'CAMEROON', 'GREECE', 'IRELAND', 'MOLDOVA', 'NEW CALEDONIA', 'RWANDA', 'SAUDI ARABIA', 'SIERRA LEONE', 'SOUTH AFRICA', 'TOGO', 'UGANDA', 'WESTERN SAHARA', 'ARMENIA', 'ITALY', 'LAOS', 'MOROCCO', 'ALBERTA', 'ARGENTINA', 'ASHMORE & CARTIER IS', 'CAPE VERDE', 'GUAM', 'GUINEA-BISSAU', 'JERSEY', 'LEBANON', 'MAURITIUS', 'PARAGUAY', 'POLAND', 'PUERTO RICO', 'SINGAPORE', 'SOMALIA', 'THAILAND', 'TRINIDAD AND TOBAGO', 'VIRGIN ISLANDS', 'ALGERIA', 'BAHRAIN', 'BRAZIL', 'DEM REP OF THE CONGO', 'ECUADOR', 'NIGERIA', 'SENEGAL', 'ST LUCIA', 'TANZANIA', 'BRITISH VIRGIN ISLAN', 'COLOMBIA', 'GABON', 'PALESTINE', 'TAIWAN', 'U K', 'MICRONESIA FEDERATED S', 'BANGLADESH', 'CAMBODIA', 'CZECH REPUBLIC', 'DJIBOUTI', 'EGYPT', 'LIBERIA', 'LIECHTENSTEIN', 'SURINAME', 'VERNON']\n",
      "US count: 1230303\n",
      "Other countries count: 781\n"
     ]
    },
    {
     "data": {
      "text/html": [
       "<div>\n",
       "<style scoped>\n",
       "    .dataframe tbody tr th:only-of-type {\n",
       "        vertical-align: middle;\n",
       "    }\n",
       "\n",
       "    .dataframe tbody tr th {\n",
       "        vertical-align: top;\n",
       "    }\n",
       "\n",
       "    .dataframe thead th {\n",
       "        text-align: right;\n",
       "    }\n",
       "</style>\n",
       "<table border=\"1\" class=\"dataframe\">\n",
       "  <thead>\n",
       "    <tr style=\"text-align: right;\">\n",
       "      <th></th>\n",
       "      <th>TAX_ID</th>\n",
       "      <th>NAME</th>\n",
       "      <th>CITY</th>\n",
       "      <th>STATE</th>\n",
       "      <th>COUNTRY</th>\n",
       "      <th>EXEMPT_CODE</th>\n",
       "    </tr>\n",
       "  </thead>\n",
       "  <tbody>\n",
       "    <tr>\n",
       "      <th>1931</th>\n",
       "      <td>010530629</td>\n",
       "      <td>Portland Nordic</td>\n",
       "      <td>Portland Me</td>\n",
       "      <td>NaN</td>\n",
       "      <td>AFGHANISTAN</td>\n",
       "      <td>FORGN</td>\n",
       "    </tr>\n",
       "    <tr>\n",
       "      <th>3508</th>\n",
       "      <td>010674736</td>\n",
       "      <td>Us-Japan Relationship Fund Inc.</td>\n",
       "      <td>Kawasaki Kanagawa</td>\n",
       "      <td>NaN</td>\n",
       "      <td>JAPAN</td>\n",
       "      <td>FORGN</td>\n",
       "    </tr>\n",
       "    <tr>\n",
       "      <th>3546</th>\n",
       "      <td>010678163</td>\n",
       "      <td>Forest Hills Neighborhood Alliance Inc.</td>\n",
       "      <td>Washington Dc</td>\n",
       "      <td>NaN</td>\n",
       "      <td>NAMIBIA</td>\n",
       "      <td>FORGN</td>\n",
       "    </tr>\n",
       "    <tr>\n",
       "      <th>13280</th>\n",
       "      <td>030356850</td>\n",
       "      <td>Kosa Communications Ltd.</td>\n",
       "      <td>Montreal Quebec</td>\n",
       "      <td>NaN</td>\n",
       "      <td>CANADA</td>\n",
       "      <td>FORGN</td>\n",
       "    </tr>\n",
       "    <tr>\n",
       "      <th>14634</th>\n",
       "      <td>030474336</td>\n",
       "      <td>Think Tank Romania Inc.</td>\n",
       "      <td>Bucharest Sector</td>\n",
       "      <td>NaN</td>\n",
       "      <td>ROMANIA</td>\n",
       "      <td>FORGN</td>\n",
       "    </tr>\n",
       "    <tr>\n",
       "      <th>...</th>\n",
       "      <td>...</td>\n",
       "      <td>...</td>\n",
       "      <td>...</td>\n",
       "      <td>...</td>\n",
       "      <td>...</td>\n",
       "      <td>...</td>\n",
       "    </tr>\n",
       "    <tr>\n",
       "      <th>1230846</th>\n",
       "      <td>990368170</td>\n",
       "      <td>Partners for Seed in Africa Fund</td>\n",
       "      <td>Local</td>\n",
       "      <td>NaN</td>\n",
       "      <td>KENYA</td>\n",
       "      <td>FORGN,PF</td>\n",
       "    </tr>\n",
       "    <tr>\n",
       "      <th>1230848</th>\n",
       "      <td>990369475</td>\n",
       "      <td>Greece Debt Free Inc.</td>\n",
       "      <td>Athens</td>\n",
       "      <td>NaN</td>\n",
       "      <td>GREECE</td>\n",
       "      <td>FORGN</td>\n",
       "    </tr>\n",
       "    <tr>\n",
       "      <th>1230859</th>\n",
       "      <td>990376332</td>\n",
       "      <td>Living Water Arts Foundation</td>\n",
       "      <td>Ab</td>\n",
       "      <td>NaN</td>\n",
       "      <td>CANADA</td>\n",
       "      <td>FORGN</td>\n",
       "    </tr>\n",
       "    <tr>\n",
       "      <th>1230879</th>\n",
       "      <td>990383175</td>\n",
       "      <td>Arquetopia Foundation Inc.</td>\n",
       "      <td>Puebla Puebla</td>\n",
       "      <td>NaN</td>\n",
       "      <td>MEXICO</td>\n",
       "      <td>FORGN</td>\n",
       "    </tr>\n",
       "    <tr>\n",
       "      <th>1231042</th>\n",
       "      <td>996016793</td>\n",
       "      <td>Georgia Augusta Universitat Gottingen</td>\n",
       "      <td>Zu Gottingen</td>\n",
       "      <td>NaN</td>\n",
       "      <td>GERMANY</td>\n",
       "      <td>FORGN</td>\n",
       "    </tr>\n",
       "  </tbody>\n",
       "</table>\n",
       "<p>781 rows × 6 columns</p>\n",
       "</div>"
      ],
      "text/plain": [
       "            TAX_ID                                     NAME  \\\n",
       "1931     010530629                          Portland Nordic   \n",
       "3508     010674736          Us-Japan Relationship Fund Inc.   \n",
       "3546     010678163  Forest Hills Neighborhood Alliance Inc.   \n",
       "13280    030356850                 Kosa Communications Ltd.   \n",
       "14634    030474336                  Think Tank Romania Inc.   \n",
       "...            ...                                      ...   \n",
       "1230846  990368170         Partners for Seed in Africa Fund   \n",
       "1230848  990369475                    Greece Debt Free Inc.   \n",
       "1230859  990376332             Living Water Arts Foundation   \n",
       "1230879  990383175               Arquetopia Foundation Inc.   \n",
       "1231042  996016793    Georgia Augusta Universitat Gottingen   \n",
       "\n",
       "                      CITY STATE      COUNTRY EXEMPT_CODE  \n",
       "1931           Portland Me   NaN  AFGHANISTAN       FORGN  \n",
       "3508     Kawasaki Kanagawa   NaN        JAPAN       FORGN  \n",
       "3546         Washington Dc   NaN      NAMIBIA       FORGN  \n",
       "13280      Montreal Quebec   NaN       CANADA       FORGN  \n",
       "14634     Bucharest Sector   NaN      ROMANIA       FORGN  \n",
       "...                    ...   ...          ...         ...  \n",
       "1230846              Local   NaN        KENYA    FORGN,PF  \n",
       "1230848             Athens   NaN       GREECE       FORGN  \n",
       "1230859                 Ab   NaN       CANADA       FORGN  \n",
       "1230879      Puebla Puebla   NaN       MEXICO       FORGN  \n",
       "1231042       Zu Gottingen   NaN      GERMANY       FORGN  \n",
       "\n",
       "[781 rows x 6 columns]"
      ]
     },
     "execution_count": 76,
     "metadata": {},
     "output_type": "execute_result"
    }
   ],
   "source": [
    "# city\n",
    "us_count = df[\"COUNTRY\"].value_counts()[0]\n",
    "other_countries = list(df[\"COUNTRY\"].cat.categories)\n",
    "other_countries.remove(\"United States\")\n",
    "print(other_countries)\n",
    "other_count = df[\"COUNTRY\"].value_counts()[1:]\n",
    "print(\"US count: \" + str(us_count))\n",
    "print(\"Other countries count: \" + str(sum(other_count)))\n",
    "# print(us_count//sum(other_count), us_count, sum(other_count))\n",
    "df.loc[df[\"COUNTRY\"].isin(other_countries)] "
   ]
  },
  {
   "cell_type": "code",
   "execution_count": 79,
   "id": "eb83d4ca",
   "metadata": {
    "ExecuteTime": {
     "end_time": "2022-04-23T16:46:15.818904Z",
     "start_time": "2022-04-23T16:46:15.786935Z"
    }
   },
   "outputs": [
    {
     "name": "stdout",
     "output_type": "stream",
     "text": [
      "PC                      1062400\n",
      "PF                       117393\n",
      "SOUNK                     16186\n",
      "EO                        14817\n",
      "POF                        8074\n",
      "SO                         5258\n",
      "GROUP                      2554\n",
      "EO,LODGE                   2328\n",
      "FORGN                       691\n",
      "UNKWN                       506\n",
      "EO,GROUP,LODGE              367\n",
      "SONFI                       230\n",
      "EO,GROUP                    105\n",
      "GROUP,SOUNK                  68\n",
      "FORGN,PF                     61\n",
      "FORGN,SOUNK                  18\n",
      "GROUP,SO                     10\n",
      "EO,FORGN                      5\n",
      "EO,PF                         3\n",
      "EO,FORGN,LODGE                2\n",
      "GROUP,PF                      2\n",
      "FORGN,POF                     2\n",
      "EO,SOUNK                      1\n",
      "EO,SO                         1\n",
      "EO,FORGN,GROUP,LODGE          1\n",
      "FORGN,SO                      1\n",
      "Name: EXEMPT_CODE, dtype: int64\n"
     ]
    }
   ],
   "source": [
    "# exempt code analysis\n",
    "exempt_count = df[\"EXEMPT_CODE\"].value_counts()\n",
    "print(exempt_count)"
   ]
  },
  {
   "cell_type": "code",
   "execution_count": null,
   "id": "e472f972",
   "metadata": {},
   "outputs": [],
   "source": [
    "# icons images logos\n",
    "# website, social media\n",
    "# all will increase a number that in calculation increases money they earn\n"
   ]
  }
 ],
 "metadata": {
  "kernelspec": {
   "display_name": "Python 3",
   "language": "python",
   "name": "python3"
  },
  "language_info": {
   "codemirror_mode": {
    "name": "ipython",
    "version": 3
   },
   "file_extension": ".py",
   "mimetype": "text/x-python",
   "name": "python",
   "nbconvert_exporter": "python",
   "pygments_lexer": "ipython3",
   "version": "3.9.5"
  }
 },
 "nbformat": 4,
 "nbformat_minor": 5
}
