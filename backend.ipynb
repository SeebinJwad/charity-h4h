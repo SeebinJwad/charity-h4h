{
 "cells": [
  {
   "cell_type": "code",
   "execution_count": 5,
   "id": "43971bf3",
   "metadata": {
    "ExecuteTime": {
     "end_time": "2022-04-23T22:07:09.004400Z",
     "start_time": "2022-04-23T22:07:08.988393Z"
    }
   },
   "outputs": [
    {
     "name": "stdout",
     "output_type": "stream",
     "text": [
      "['South Lafourche Quarterback Club\\n', 'Iglesia Bethesda Inc.\\n', 'Ministerio Apostolico Jesucristo Es El Senor Inc.\\n', 'Mercy Chapel International\\n', 'Agape House of Prayer\\n', 'Bethany Presbyterian Church\\n', 'Academic and Behavioral Clinic Inc.\\n', 'Restoration of Hope Church Ministries\\n', 'Church of Our Lord Jesus Christ of Macedonia\\n', 'Usta National Junior Tennis League Inc.']\n"
     ]
    }
   ],
   "source": [
    "with open(\"inp_charities.txt\", 'r') as f:\n",
    "    print(f.readlines())"
   ]
  },
  {
   "cell_type": "code",
   "execution_count": null,
   "id": "052b01a3",
   "metadata": {},
   "outputs": [],
   "source": [
    "# make a csv with information for each org listed and export csv to website\n"
   ]
  }
 ],
 "metadata": {
  "kernelspec": {
   "display_name": "Python 3",
   "language": "python",
   "name": "python3"
  },
  "language_info": {
   "codemirror_mode": {
    "name": "ipython",
    "version": 3
   },
   "file_extension": ".py",
   "mimetype": "text/x-python",
   "name": "python",
   "nbconvert_exporter": "python",
   "pygments_lexer": "ipython3",
   "version": "3.9.5"
  }
 },
 "nbformat": 4,
 "nbformat_minor": 5
}
